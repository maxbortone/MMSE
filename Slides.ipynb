{
 "cells": [
  {
   "cell_type": "markdown",
   "metadata": {
    "heading_collapsed": true,
    "slideshow": {
     "slide_type": "slide"
    }
   },
   "source": [
    "# Multi Mode Source Extraction\n",
    "----\n",
    "Pushing the limits of SExtractor\n",
    "\n",
    "\n",
    "\n",
    "\n",
    "_Massimo Bortone, ETH Zürich_"
   ]
  },
  {
   "cell_type": "markdown",
   "metadata": {
    "slideshow": {
     "slide_type": "slide"
    }
   },
   "source": [
    "# Outline\n",
    "----\n",
    "1. Goals\n",
    "2. SExtractor\n",
    "3. Overshredding\n",
    "4. Kernels\n",
    "5. Multi Mode Source Extraction\n",
    "6. What's next"
   ]
  },
  {
   "cell_type": "markdown",
   "metadata": {
    "slideshow": {
     "slide_type": "slide"
    }
   },
   "source": [
    "# Goals\n",
    "----\n",
    "* Detect as many possible sources in deep images like the XDF\n",
    "* Overshred: detect sub-structure in galaxies\n",
    "* Combine detections from multiple bands and modes\n",
    "* Forward model the image with FORCEPho"
   ]
  },
  {
   "cell_type": "markdown",
   "metadata": {
    "slideshow": {
     "slide_type": "slide"
    }
   },
   "source": [
    "# The HXDF\n",
    "----\n",
    "<div style=\"width: 100%;\">\n",
    "    <div style=\"float: left; width: 50%\">\n",
    "        <img src=\"images/xdf.png\" alt=\"XDF and cutout region\" />\n",
    "    </div>\n",
    "    <ul style=\"float: left; width: 45%\">\n",
    "        <li>$20 ~\\text{days}$ total exposure</li>\n",
    "        <li>$2.3\\times 2 ~\\text{arcminutes}^2$ in size, which is about $\\frac{1}{32\\times 10^6}$ of the sky</li>\n",
    "        <li>$\\text{RA}~~ 03:32:40.440$ <br> $\\text{DEC}~~ -27:47:24.12$</li>\n",
    "        <li>generated using data from Hubble's ACS/WFC and WFC3/IR cameras</li>\n",
    "    </ul>\n",
    "</div>"
   ]
  },
  {
   "cell_type": "markdown",
   "metadata": {
    "slideshow": {
     "slide_type": "subslide"
    }
   },
   "source": [
    "![cutout bands](images/H-I-bands.png \"H and I bands of the XDF\")"
   ]
  },
  {
   "cell_type": "markdown",
   "metadata": {
    "slideshow": {
     "slide_type": "slide"
    }
   },
   "source": [
    "# SExtractor\n",
    "----\n",
    "Developed in 1996 by E. Bertin and S. Arnouts, is a parametric signal-based method to extract sources from large astronomical images."
   ]
  },
  {
   "cell_type": "markdown",
   "metadata": {
    "slideshow": {
     "slide_type": "subslide"
    }
   },
   "source": [
    "## How it works\n",
    "----\n",
    "The complete analysis of an image consists of 6 steps:\n",
    "1. estimation of sky background\n",
    "2. **thresholding**\n",
    "3. **deblending**\n",
    "4. cleaning\n",
    "5. photometry\n",
    "6. star/galaxy separation"
   ]
  },
  {
   "cell_type": "markdown",
   "metadata": {
    "slideshow": {
     "slide_type": "notes"
    }
   },
   "source": [
    "1. assume image is already background subtracted or background is sufficiently flat\n",
    "4. not relevant for our goals\n",
    "5. handled by FORCEPho\n",
    "6. not important in deep images"
   ]
  },
  {
   "cell_type": "markdown",
   "metadata": {
    "slideshow": {
     "slide_type": "subslide"
    }
   },
   "source": [
    "## Thresholding\n",
    "----\n",
    "* convolve original image \"on-the-fly\" with a mask \n",
    "* thresholding is local for every pixel:\n",
    "$$I_{ij} > \\sigma \\cdot \\text{rms}_{ij}$$\n",
    "* extract 8-connected contigous pixels above threshold from convolved image"
   ]
  },
  {
   "cell_type": "markdown",
   "metadata": {
    "slideshow": {
     "slide_type": "subslide"
    }
   },
   "source": [
    "## Deblending\n",
    "----\n",
    "<div style=\"width: 100%;\">\n",
    "    <ul style=\"float: left; width: 60%\">\n",
    "        <li>re-threshold each extracted set of 8-connected pixels at `NTHRESH` exponentially spaced levels between the primary extraction threshold $\\sigma$ and the peak value in the extracted set</li>\n",
    "        <li>model light distribution of the object as a tree structure</li>\n",
    "        <li>`MINCONT` parameter defines the minimal contrast between the integrated pixel intensity in the branches and the total intensity of the composite object</li>\n",
    "    </ul>\n",
    "    <div style=\"float: left; width: 35%\">\n",
    "        <img src=\"images/sextractor-deblending.png\" alt=\"Deblending in SExtractor\" />\n",
    "    </div>\n",
    "</div>"
   ]
  },
  {
   "cell_type": "markdown",
   "metadata": {
    "slideshow": {
     "slide_type": "slide"
    }
   },
   "source": [
    "# Overshredding\n",
    "----\n",
    "Apart from $\\sigma$, the detection behavior of SExtractor is controlled by\n",
    "- `MINAREA`: minimal number of pixels that define an object\n",
    "- `NTHRESH`: number of exponentially spaced levels\n",
    "- `MINCONT`: minimal contrast needed to split an object in two components"
   ]
  },
  {
   "cell_type": "markdown",
   "metadata": {
    "slideshow": {
     "slide_type": "notes"
    }
   },
   "source": [
    "1. is quite straightforward: the smaller, the more \"objects\" are detected\n",
    "2. & 3. not clear which values are good for our goals"
   ]
  },
  {
   "cell_type": "markdown",
   "metadata": {
    "slideshow": {
     "slide_type": "subslide"
    }
   },
   "source": [
    "## Exploring the parameter space\n",
    "----\n",
    "Since it is not clear which combination of values of `NTHRESH` and `MINCONT` yield to overshredding, let's explore the parameter space"
   ]
  },
  {
   "cell_type": "code",
   "execution_count": null,
   "metadata": {
    "slideshow": {
     "slide_type": "fragment"
    }
   },
   "outputs": [],
   "source": [
    "nthresh = range(32, 1025, 32)\n",
    "mincont = np.logspace(0, -10, 100)"
   ]
  },
  {
   "cell_type": "markdown",
   "metadata": {
    "slideshow": {
     "slide_type": "subslide"
    }
   },
   "source": [
    "![grid](images/mincont-nthresh-grid.png \"Detections as a function of NTHRESH and MINCONT\")"
   ]
  },
  {
   "cell_type": "markdown",
   "metadata": {
    "slideshow": {
     "slide_type": "subslide"
    }
   },
   "source": [
    "**1. CONCLUSION** \n",
    "\n",
    "`MINCONT` has a larger effect on the number of detections than `NTHRESH`"
   ]
  },
  {
   "cell_type": "markdown",
   "metadata": {
    "slideshow": {
     "slide_type": "subslide"
    }
   },
   "source": [
    "![grid](images/detection-vs-mincont.png \"Detections as a function MINCONT for NTHRESH=64\")"
   ]
  },
  {
   "cell_type": "markdown",
   "metadata": {
    "slideshow": {
     "slide_type": "subslide"
    }
   },
   "source": [
    "**2. CONCLUSION** \n",
    "\n",
    "Number of detections saturates for `MINCONT`$<10^{-6}$"
   ]
  },
  {
   "cell_type": "markdown",
   "metadata": {
    "slideshow": {
     "slide_type": "fragment"
    }
   },
   "source": [
    "--------\n",
    "From now on we fix the parameters to:\n",
    "- `NTHRESH`=$64$\n",
    "- `MINCONT`=$10^{-7}$"
   ]
  },
  {
   "cell_type": "markdown",
   "metadata": {
    "slideshow": {
     "slide_type": "slide"
    }
   },
   "source": [
    "# Kernel\n",
    "----\n",
    "A kernel is a matrix of a given size that is convolved with the image to increase the sensibility of the detection towards specific objects\n",
    "\n",
    "## Examples\n",
    "\n",
    "* PSF kernel: good for faint unresolved objects\n",
    "* flat kernel: better for LSB objects"
   ]
  },
  {
   "cell_type": "code",
   "execution_count": null,
   "metadata": {
    "slideshow": {
     "slide_type": "subslide"
    }
   },
   "outputs": [],
   "source": [
    "psf_filename = os.path.join(base, \"data/ZC404221_H_PSF.fits\")\n",
    "psf_hdu = fits.open(psf_filename)\n",
    "psf = psf_hdu[0].data\n",
    "psf_clipped = np.array(psf[40:60, 40:60])"
   ]
  },
  {
   "cell_type": "code",
   "execution_count": null,
   "metadata": {
    "slideshow": {
     "slide_type": "fragment"
    }
   },
   "outputs": [],
   "source": [
    "psf_default = np.zeros_like(psf_clipped)\n",
    "psf_default[9:12, 9] = [1, 2, 1]\n",
    "psf_default[9:12, 10] = [2, 4, 2]\n",
    "psf_default[9:12, 11] = [1, 2, 1]\n",
    "psf_default /= 4.0"
   ]
  },
  {
   "cell_type": "code",
   "execution_count": null,
   "metadata": {
    "slideshow": {
     "slide_type": "fragment"
    }
   },
   "outputs": [],
   "source": [
    "flat_5 = np.zeros_like(psf_clipped)\n",
    "flat_5[8:13, 8:13] = np.ones((5, 5))"
   ]
  },
  {
   "cell_type": "code",
   "execution_count": null,
   "metadata": {
    "slideshow": {
     "slide_type": "fragment"
    }
   },
   "outputs": [],
   "source": [
    "one_hot = np.zeros_like(psf_clipped)\n",
    "one_hot[10, 10] = 1"
   ]
  },
  {
   "cell_type": "markdown",
   "metadata": {
    "slideshow": {
     "slide_type": "subslide"
    }
   },
   "source": [
    "![Kernels](images/kernels.png \"4 different kernels\")"
   ]
  },
  {
   "cell_type": "markdown",
   "metadata": {
    "slideshow": {
     "slide_type": "subslide"
    }
   },
   "source": [
    "Comparing the number of detections as a function of area for the 4 different kernels we notice:\n",
    "\n",
    "![Histograms](images/hist-kernels.png \"Histograms of detections for 4 different kernels\")"
   ]
  },
  {
   "cell_type": "markdown",
   "metadata": {
    "slideshow": {
     "slide_type": "fragment"
    }
   },
   "source": [
    "- `ONE-HOT` kernel detects a lot of small scale structure\n",
    "- `PSF` and `FLAT` kernels are sensible to more extended objects"
   ]
  },
  {
   "cell_type": "markdown",
   "metadata": {
    "slideshow": {
     "slide_type": "subslide"
    }
   },
   "source": [
    "Overplotting all detections we conclude that:\n",
    "![All detections](images/all-kernels.png \"Detected sources for 4 different kernels\")"
   ]
  },
  {
   "cell_type": "markdown",
   "metadata": {
    "slideshow": {
     "slide_type": "fragment"
    }
   },
   "source": [
    "- SExtractor with the `ONE-HOT` kernel can be use to detect substructures in bright extended objects"
   ]
  },
  {
   "cell_type": "markdown",
   "metadata": {
    "slideshow": {
     "slide_type": "slide"
    }
   },
   "source": [
    "# Multi Mode Source Extractor\n",
    "----\n",
    "**IDEA:** \n",
    "run SExtractor in different modes and on different bands, allowing each mode to specify its own SExtractor parameters. Then merge detections into one single catalog."
   ]
  },
  {
   "cell_type": "markdown",
   "metadata": {
    "slideshow": {
     "slide_type": "fragment"
    }
   },
   "source": [
    "----\n",
    "**PROBLEM:** \n",
    "merging detections can be tricky"
   ]
  },
  {
   "cell_type": "markdown",
   "metadata": {
    "slideshow": {
     "slide_type": "subslide"
    }
   },
   "source": [
    "## Defining modes and bands\n",
    "----"
   ]
  },
  {
   "cell_type": "code",
   "execution_count": 3,
   "metadata": {
    "slideshow": {
     "slide_type": "fragment"
    }
   },
   "outputs": [
    {
     "ename": "NameError",
     "evalue": "name 'kernel_cold' is not defined",
     "output_type": "error",
     "traceback": [
      "\u001b[0;31m---------------------------------------------------------------------------\u001b[0m",
      "\u001b[0;31mNameError\u001b[0m                                 Traceback (most recent call last)",
      "\u001b[0;32m<ipython-input-3-79c34cf1a71e>\u001b[0m in \u001b[0;36m<module>\u001b[0;34m()\u001b[0m\n\u001b[1;32m      6\u001b[0m             \u001b[0;34m'mincont'\u001b[0m\u001b[0;34m:\u001b[0m \u001b[0;36m1e-7\u001b[0m\u001b[0;34m,\u001b[0m\u001b[0;34m\u001b[0m\u001b[0m\n\u001b[1;32m      7\u001b[0m             \u001b[0;34m'nthresh'\u001b[0m\u001b[0;34m:\u001b[0m \u001b[0;36m64\u001b[0m\u001b[0;34m,\u001b[0m\u001b[0;34m\u001b[0m\u001b[0m\n\u001b[0;32m----> 8\u001b[0;31m             \u001b[0;34m'kernel'\u001b[0m\u001b[0;34m:\u001b[0m \u001b[0mkernel_cold\u001b[0m\u001b[0;34m,\u001b[0m\u001b[0;34m\u001b[0m\u001b[0m\n\u001b[0m\u001b[1;32m      9\u001b[0m             \u001b[0;34m'minarea'\u001b[0m\u001b[0;34m:\u001b[0m \u001b[0;36m5\u001b[0m\u001b[0;34m\u001b[0m\u001b[0m\n\u001b[1;32m     10\u001b[0m         },\n",
      "\u001b[0;31mNameError\u001b[0m: name 'kernel_cold' is not defined"
     ]
    }
   ],
   "source": [
    "modes = {\n",
    "    'H': {\n",
    "        # detect large bright sources\n",
    "        'cold': {\n",
    "            'sigma': 1.5,\n",
    "            'mincont': 1e-7,\n",
    "            'nthresh': 64,\n",
    "            'kernel': kernel_cold,\n",
    "            'minarea': 5\n",
    "        },\n",
    "        # detect small isolated sources\n",
    "        'hot': {\n",
    "            'sigma': 1.5,\n",
    "            'mincont': 1e-7,\n",
    "            'nthresh': 64,\n",
    "            'kernel': kernel_hot,\n",
    "            'minarea': 5\n",
    "        }\n",
    "    },\n",
    "    'I': {\n",
    "        # detect substructure in large bright sources\n",
    "        'hot': {\n",
    "            'sigma': 2.0,\n",
    "            'mincont': 1e-7,\n",
    "            'nthresh': 64,\n",
    "            'kernel': kernel_hot,\n",
    "            'minarea': 5\n",
    "        }\n",
    "    }\n",
    "}"
   ]
  },
  {
   "cell_type": "code",
   "execution_count": null,
   "metadata": {
    "slideshow": {
     "slide_type": "fragment"
    }
   },
   "outputs": [],
   "source": [
    "bands = {\n",
    "    'H': {\n",
    "        'image': image_h,\n",
    "        'rms': rms_h\n",
    "    },\n",
    "    'I': {\n",
    "        'image': image_i,\n",
    "        'rms': rms_i\n",
    "    }\n",
    "}"
   ]
  },
  {
   "cell_type": "markdown",
   "metadata": {
    "slideshow": {
     "slide_type": "subslide"
    }
   },
   "source": [
    "## Finding substructures\n",
    "----\n",
    "The idea is to use a small kernel on the I band to detect sub-structures within the brightest objects detected in the H band. To do this we need to:\n",
    "\n",
    "1. Compute fluxes for all object\n",
    "2. Select brightest objects in the H band\n",
    "3. Look for sub-structures in the I band"
   ]
  },
  {
   "cell_type": "markdown",
   "metadata": {
    "slideshow": {
     "slide_type": "subslide"
    }
   },
   "source": [
    "![H and I detections](images/H-I-detections.png \"Detections in the H and I bands\")"
   ]
  },
  {
   "cell_type": "markdown",
   "metadata": {
    "slideshow": {
     "slide_type": "subslide"
    }
   },
   "source": [
    "### 1. Compute flux within elliptical aperture for each detection\n",
    "![Integrated flux](images/H-integrated-flux.png \"Integrated flux for detections in the H band\")"
   ]
  },
  {
   "cell_type": "markdown",
   "metadata": {
    "slideshow": {
     "slide_type": "subslide"
    }
   },
   "source": [
    "### 2. Select top 20% brightest objects in the H band\n",
    "![Top 20% detections](images/H-flux-selection.png \"Top 20% brightest detections in the H band\")"
   ]
  },
  {
   "cell_type": "markdown",
   "metadata": {
    "slideshow": {
     "slide_type": "subslide"
    }
   },
   "source": [
    "### 3. Search for detections in the I band that are within an elliptical aperture of 2x the dimensions determined by SExtractor\n",
    "![I Sub-structures](images/I-band-substructure.png \"Sub-structure detection in the I band\")"
   ]
  },
  {
   "cell_type": "markdown",
   "metadata": {
    "slideshow": {
     "slide_type": "subslide"
    }
   },
   "source": [
    "### 4. Repeat same steps to find sub-structures on the H band\n",
    "![H Sub-structures](images/H-band-substructure.png \"Sub-structure detection in the H band\")"
   ]
  },
  {
   "cell_type": "markdown",
   "metadata": {
    "slideshow": {
     "slide_type": "subslide"
    }
   },
   "source": [
    "### 5. Compare sub-structures in both bands\n",
    "![Compare sub-structures](images/H-vs-I-substructure.png \"Comparison between substructure detected in the H and I bands\")"
   ]
  },
  {
   "cell_type": "markdown",
   "metadata": {
    "slideshow": {
     "slide_type": "slide"
    }
   },
   "source": [
    "## Merging\n",
    "----\n",
    "In order to merge the detections obtained for the different bands and modes we need to:\n",
    "\n",
    "1. Remove duplicates across bands and modes\n",
    "2. Remove brightest objects in H band\n",
    "3. Replace sub-structures in H band with those found in the I band"
   ]
  },
  {
   "cell_type": "markdown",
   "metadata": {
    "slideshow": {
     "slide_type": "subslide"
    }
   },
   "source": [
    "### Finding similar detections\n",
    "----\n",
    "Given two objects $A$ and $B$, we define a proximity function as follows:\n",
    "\n",
    "$$\n",
    "   P(A, B) = \\parallel x_A - x_B \\parallel + \\vert s_A - s_B \\vert + \\vert \\theta_A - \\theta_B \\vert\n",
    "$$\n",
    "\n",
    "where $x_i$ are the coordinates of the barycentre (first moment), $s_i = a_i \\cdot b_i$ is the area of the ellipse and $\\theta_i$ its orientation."
   ]
  },
  {
   "cell_type": "markdown",
   "metadata": {
    "slideshow": {
     "slide_type": "subslide"
    }
   },
   "source": [
    "### 1.1 Remove duplicates across modes in the H band\n",
    "\n",
    "![Duplicates H band](images/H-band-hot-cold-similar.png \"Duplicates across modes in the H band\")"
   ]
  },
  {
   "cell_type": "markdown",
   "metadata": {
    "slideshow": {
     "slide_type": "subslide"
    }
   },
   "source": [
    "### 1.2 Remove duplicates across H and I bands in hot mode\n",
    "\n",
    "![Duplicates hot mode](images/H-I-band-hot-hot-similar.png \"Duplicates across H and I bands in hot mode\")"
   ]
  },
  {
   "cell_type": "markdown",
   "metadata": {
    "slideshow": {
     "slide_type": "subslide"
    }
   },
   "source": [
    "## Final positions\n",
    "----\n",
    "![Final posititons](images/final-positions.png \"Final positions\")"
   ]
  },
  {
   "cell_type": "markdown",
   "metadata": {
    "slideshow": {
     "slide_type": "subslide"
    }
   },
   "source": [
    "## Comparison to other catalogs\n",
    "----\n",
    "We compare our detections to those found by:\n",
    "- Bouwens+ 2015 (see http://vizier.cfa.harvard.edu/viz-bin/VizieR?-source=J/ApJ/803/34)\n",
    "- Guo+ 2013 (CANDELS GOODS-S catalog, see http://vizier.cfa.harvard.edu/viz-bin/VizieR?-source=J/ApJS/207/24)\n",
    "- Finkelstein+ 2015 (see http://vizier.cfa.harvard.edu/viz-bin/VizieR?-source=J/ApJ/810/71)\n",
    "- Skelton+2014 (3D-HST catalog, see http://adsabs.harvard.edu/abs/2014ApJS..214...24S)"
   ]
  },
  {
   "cell_type": "markdown",
   "metadata": {
    "slideshow": {
     "slide_type": "subslide"
    }
   },
   "source": [
    "Overplotting all detections we find:\n",
    "    \n",
    "![All catalogs](images/all-mmse.png \"Detections from all catalogs\")"
   ]
  },
  {
   "cell_type": "markdown",
   "metadata": {
    "slideshow": {
     "slide_type": "subslide"
    }
   },
   "source": [
    "**Results**:\n",
    "\n",
    "![Detection fraction](images/detection-fraction.png \"Detection fraction\")"
   ]
  },
  {
   "cell_type": "markdown",
   "metadata": {
    "slideshow": {
     "slide_type": "fragment"
    }
   },
   "source": [
    "**NOTE**: agreement with `Bouwens` can be improved by stacking YJH bands together"
   ]
  },
  {
   "cell_type": "markdown",
   "metadata": {
    "slideshow": {
     "slide_type": "slide"
    }
   },
   "source": [
    "# What's next\n",
    "----\n",
    "\n",
    "- measure distance between peak and barycentre in each detected object to determine the width of a prior on its final position\n",
    "- determine detection recovery as a function of confusion by introducing artificial objects on the image\n",
    "- using simulated images:\n",
    "    - quantify false positive and true negative detections\n",
    "    - find optimal kernels for different kinds of objects"
   ]
  }
 ],
 "metadata": {
  "celltoolbar": "Slideshow",
  "kernelspec": {
   "display_name": "Python 3",
   "language": "python",
   "name": "python3"
  },
  "language_info": {
   "codemirror_mode": {
    "name": "ipython",
    "version": 3
   },
   "file_extension": ".py",
   "mimetype": "text/x-python",
   "name": "python",
   "nbconvert_exporter": "python",
   "pygments_lexer": "ipython3",
   "version": "3.6.5"
  },
  "livereveal": {
   "scroll": true
  },
  "toc": {
   "base_numbering": 1,
   "nav_menu": {},
   "number_sections": false,
   "sideBar": true,
   "skip_h1_title": false,
   "title_cell": "Table of Contents",
   "title_sidebar": "Contents",
   "toc_cell": false,
   "toc_position": {},
   "toc_section_display": true,
   "toc_window_display": false
  }
 },
 "nbformat": 4,
 "nbformat_minor": 2
}
